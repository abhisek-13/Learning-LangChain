{
  "cells": [
    {
      "cell_type": "code",
      "execution_count": 1,
      "metadata": {
        "colab": {
          "base_uri": "https://localhost:8080/"
        },
        "id": "jFIPIfFzwPjS",
        "outputId": "89da4b3c-97d1-40d7-c19e-4363a003a8a9"
      },
      "outputs": [
        {
          "output_type": "stream",
          "name": "stdout",
          "text": [
            "Requirement already satisfied: langchain in /usr/local/lib/python3.10/dist-packages (0.3.14)\n",
            "Requirement already satisfied: langchain-community in /usr/local/lib/python3.10/dist-packages (0.3.14)\n",
            "Requirement already satisfied: pypdf in /usr/local/lib/python3.10/dist-packages (5.1.0)\n",
            "Requirement already satisfied: langchain_nvidia_ai_endpoints in /usr/local/lib/python3.10/dist-packages (0.3.7)\n",
            "Requirement already satisfied: PyYAML>=5.3 in /usr/local/lib/python3.10/dist-packages (from langchain) (6.0.2)\n",
            "Requirement already satisfied: SQLAlchemy<3,>=1.4 in /usr/local/lib/python3.10/dist-packages (from langchain) (2.0.36)\n",
            "Requirement already satisfied: aiohttp<4.0.0,>=3.8.3 in /usr/local/lib/python3.10/dist-packages (from langchain) (3.11.10)\n",
            "Requirement already satisfied: async-timeout<5.0.0,>=4.0.0 in /usr/local/lib/python3.10/dist-packages (from langchain) (4.0.3)\n",
            "Requirement already satisfied: langchain-core<0.4.0,>=0.3.29 in /usr/local/lib/python3.10/dist-packages (from langchain) (0.3.29)\n",
            "Requirement already satisfied: langchain-text-splitters<0.4.0,>=0.3.3 in /usr/local/lib/python3.10/dist-packages (from langchain) (0.3.3)\n",
            "Requirement already satisfied: langsmith<0.3,>=0.1.17 in /usr/local/lib/python3.10/dist-packages (from langchain) (0.2.3)\n",
            "Requirement already satisfied: numpy<2,>=1.22.4 in /usr/local/lib/python3.10/dist-packages (from langchain) (1.26.4)\n",
            "Requirement already satisfied: pydantic<3.0.0,>=2.7.4 in /usr/local/lib/python3.10/dist-packages (from langchain) (2.10.3)\n",
            "Requirement already satisfied: requests<3,>=2 in /usr/local/lib/python3.10/dist-packages (from langchain) (2.32.3)\n",
            "Requirement already satisfied: tenacity!=8.4.0,<10,>=8.1.0 in /usr/local/lib/python3.10/dist-packages (from langchain) (9.0.0)\n",
            "Requirement already satisfied: dataclasses-json<0.7,>=0.5.7 in /usr/local/lib/python3.10/dist-packages (from langchain-community) (0.6.7)\n",
            "Requirement already satisfied: httpx-sse<0.5.0,>=0.4.0 in /usr/local/lib/python3.10/dist-packages (from langchain-community) (0.4.0)\n",
            "Requirement already satisfied: pydantic-settings<3.0.0,>=2.4.0 in /usr/local/lib/python3.10/dist-packages (from langchain-community) (2.7.1)\n",
            "Requirement already satisfied: typing_extensions>=4.0 in /usr/local/lib/python3.10/dist-packages (from pypdf) (4.12.2)\n",
            "Requirement already satisfied: pillow<11.0.0,>=10.0.0 in /usr/local/lib/python3.10/dist-packages (from langchain_nvidia_ai_endpoints) (10.4.0)\n",
            "Requirement already satisfied: aiohappyeyeballs>=2.3.0 in /usr/local/lib/python3.10/dist-packages (from aiohttp<4.0.0,>=3.8.3->langchain) (2.4.4)\n",
            "Requirement already satisfied: aiosignal>=1.1.2 in /usr/local/lib/python3.10/dist-packages (from aiohttp<4.0.0,>=3.8.3->langchain) (1.3.2)\n",
            "Requirement already satisfied: attrs>=17.3.0 in /usr/local/lib/python3.10/dist-packages (from aiohttp<4.0.0,>=3.8.3->langchain) (24.3.0)\n",
            "Requirement already satisfied: frozenlist>=1.1.1 in /usr/local/lib/python3.10/dist-packages (from aiohttp<4.0.0,>=3.8.3->langchain) (1.5.0)\n",
            "Requirement already satisfied: multidict<7.0,>=4.5 in /usr/local/lib/python3.10/dist-packages (from aiohttp<4.0.0,>=3.8.3->langchain) (6.1.0)\n",
            "Requirement already satisfied: propcache>=0.2.0 in /usr/local/lib/python3.10/dist-packages (from aiohttp<4.0.0,>=3.8.3->langchain) (0.2.1)\n",
            "Requirement already satisfied: yarl<2.0,>=1.17.0 in /usr/local/lib/python3.10/dist-packages (from aiohttp<4.0.0,>=3.8.3->langchain) (1.18.3)\n",
            "Requirement already satisfied: marshmallow<4.0.0,>=3.18.0 in /usr/local/lib/python3.10/dist-packages (from dataclasses-json<0.7,>=0.5.7->langchain-community) (3.24.1)\n",
            "Requirement already satisfied: typing-inspect<1,>=0.4.0 in /usr/local/lib/python3.10/dist-packages (from dataclasses-json<0.7,>=0.5.7->langchain-community) (0.9.0)\n",
            "Requirement already satisfied: jsonpatch<2.0,>=1.33 in /usr/local/lib/python3.10/dist-packages (from langchain-core<0.4.0,>=0.3.29->langchain) (1.33)\n",
            "Requirement already satisfied: packaging<25,>=23.2 in /usr/local/lib/python3.10/dist-packages (from langchain-core<0.4.0,>=0.3.29->langchain) (24.2)\n",
            "Requirement already satisfied: httpx<1,>=0.23.0 in /usr/local/lib/python3.10/dist-packages (from langsmith<0.3,>=0.1.17->langchain) (0.28.1)\n",
            "Requirement already satisfied: orjson<4.0.0,>=3.9.14 in /usr/local/lib/python3.10/dist-packages (from langsmith<0.3,>=0.1.17->langchain) (3.10.12)\n",
            "Requirement already satisfied: requests-toolbelt<2.0.0,>=1.0.0 in /usr/local/lib/python3.10/dist-packages (from langsmith<0.3,>=0.1.17->langchain) (1.0.0)\n",
            "Requirement already satisfied: annotated-types>=0.6.0 in /usr/local/lib/python3.10/dist-packages (from pydantic<3.0.0,>=2.7.4->langchain) (0.7.0)\n",
            "Requirement already satisfied: pydantic-core==2.27.1 in /usr/local/lib/python3.10/dist-packages (from pydantic<3.0.0,>=2.7.4->langchain) (2.27.1)\n",
            "Requirement already satisfied: python-dotenv>=0.21.0 in /usr/local/lib/python3.10/dist-packages (from pydantic-settings<3.0.0,>=2.4.0->langchain-community) (1.0.1)\n",
            "Requirement already satisfied: charset-normalizer<4,>=2 in /usr/local/lib/python3.10/dist-packages (from requests<3,>=2->langchain) (3.4.0)\n",
            "Requirement already satisfied: idna<4,>=2.5 in /usr/local/lib/python3.10/dist-packages (from requests<3,>=2->langchain) (3.10)\n",
            "Requirement already satisfied: urllib3<3,>=1.21.1 in /usr/local/lib/python3.10/dist-packages (from requests<3,>=2->langchain) (2.2.3)\n",
            "Requirement already satisfied: certifi>=2017.4.17 in /usr/local/lib/python3.10/dist-packages (from requests<3,>=2->langchain) (2024.12.14)\n",
            "Requirement already satisfied: greenlet!=0.4.17 in /usr/local/lib/python3.10/dist-packages (from SQLAlchemy<3,>=1.4->langchain) (3.1.1)\n",
            "Requirement already satisfied: anyio in /usr/local/lib/python3.10/dist-packages (from httpx<1,>=0.23.0->langsmith<0.3,>=0.1.17->langchain) (3.7.1)\n",
            "Requirement already satisfied: httpcore==1.* in /usr/local/lib/python3.10/dist-packages (from httpx<1,>=0.23.0->langsmith<0.3,>=0.1.17->langchain) (1.0.7)\n",
            "Requirement already satisfied: h11<0.15,>=0.13 in /usr/local/lib/python3.10/dist-packages (from httpcore==1.*->httpx<1,>=0.23.0->langsmith<0.3,>=0.1.17->langchain) (0.14.0)\n",
            "Requirement already satisfied: jsonpointer>=1.9 in /usr/local/lib/python3.10/dist-packages (from jsonpatch<2.0,>=1.33->langchain-core<0.4.0,>=0.3.29->langchain) (3.0.0)\n",
            "Requirement already satisfied: mypy-extensions>=0.3.0 in /usr/local/lib/python3.10/dist-packages (from typing-inspect<1,>=0.4.0->dataclasses-json<0.7,>=0.5.7->langchain-community) (1.0.0)\n",
            "Requirement already satisfied: sniffio>=1.1 in /usr/local/lib/python3.10/dist-packages (from anyio->httpx<1,>=0.23.0->langsmith<0.3,>=0.1.17->langchain) (1.3.1)\n",
            "Requirement already satisfied: exceptiongroup in /usr/local/lib/python3.10/dist-packages (from anyio->httpx<1,>=0.23.0->langsmith<0.3,>=0.1.17->langchain) (1.2.2)\n"
          ]
        }
      ],
      "source": [
        "!pip install langchain langchain-community pypdf langchain_nvidia_ai_endpoints"
      ]
    },
    {
      "cell_type": "code",
      "execution_count": 2,
      "metadata": {
        "id": "n4mnlSdqGuVT"
      },
      "outputs": [],
      "source": [
        "import os\n",
        "os.environ['NVIDIA_API_KEY'] = \"enter your api key\""
      ]
    },
    {
      "cell_type": "code",
      "execution_count": 3,
      "metadata": {
        "id": "dl9YEnZCGweA"
      },
      "outputs": [],
      "source": [
        "from langchain_nvidia_ai_endpoints import ChatNVIDIA\n",
        "from langchain.prompts import ChatPromptTemplate\n",
        "from langchain.schema.output_parser import StrOutputParser\n",
        "\n",
        "llm = ChatNVIDIA(\n",
        "  model=\"meta/llama-3.3-70b-instruct\",\n",
        "  temperature=0.2,\n",
        "  top_p=0.7,\n",
        "  max_tokens=1024)"
      ]
    },
    {
      "cell_type": "code",
      "source": [
        "prompt_template = ChatPromptTemplate.from_messages([\n",
        "    (\"system\",\"You are expert in motivating someone.\"),\n",
        "    (\"human\",\"Motivate me by {quotes_count} motivational quotes.\")\n",
        "])"
      ],
      "metadata": {
        "id": "mLwVIn6SVwIs"
      },
      "execution_count": null,
      "outputs": []
    },
    {
      "cell_type": "markdown",
      "source": [
        "#Simple Chain"
      ],
      "metadata": {
        "id": "NeI4SU0Wakvb"
      }
    },
    {
      "cell_type": "code",
      "source": [
        "chain = prompt_template | llm | StrOutputParser()"
      ],
      "metadata": {
        "id": "QpxwrX6iaZ5q"
      },
      "execution_count": null,
      "outputs": []
    },
    {
      "cell_type": "code",
      "source": [
        "result = chain.invoke({\"quotes_count\":4})"
      ],
      "metadata": {
        "id": "PCLSZI5najlh"
      },
      "execution_count": null,
      "outputs": []
    },
    {
      "cell_type": "code",
      "source": [
        "print(result)"
      ],
      "metadata": {
        "colab": {
          "base_uri": "https://localhost:8080/"
        },
        "id": "z3H2vFWZbG4L",
        "outputId": "c3e76d0a-6f24-40f3-c0b7-0a2441464cf1"
      },
      "execution_count": null,
      "outputs": [
        {
          "output_type": "stream",
          "name": "stdout",
          "text": [
            "I'd be delighted to motivate you with these 4 powerful quotes:\n",
            "\n",
            "1. **\"Believe you can and you're halfway there.\"** - Theodore Roosevelt\n",
            "\n",
            "Remember, your mindset is the key to unlocking your potential. Believe in yourself, your abilities, and your dreams. You've got this!\n",
            "\n",
            "2. **\"It does not matter how slowly you go as long as you do not stop.\"** - Confucius\n",
            "\n",
            "Don't be discouraged by setbacks or slow progress. Every step forward, no matter how small, brings you closer to your goal. Keep moving, and you'll eventually reach your destination.\n",
            "\n",
            "3. **\"Success is not final, failure is not fatal: It is the courage to continue that counts.\"** - Winston Churchill\n",
            "\n",
            "Don't be afraid to take risks and face challenges. It's the courage to keep going, even in the face of adversity, that will ultimately lead you to success. Learn from your failures and use them as stepping stones to growth.\n",
            "\n",
            "4. **\"You miss 100% of the shots you don't take.\"** - Wayne Gretzky\n",
            "\n",
            "Don't let fear or doubt hold you back from pursuing your goals. Take the leap, seize opportunities, and go for it! You never know what amazing things might happen if you just take that first step.\n",
            "\n",
            "Feel motivated and inspired yet? Remember, you have the power to achieve greatness!\n"
          ]
        }
      ]
    },
    {
      "cell_type": "markdown",
      "source": [
        "#What inside a Chain"
      ],
      "metadata": {
        "id": "CMgKphewe-bX"
      }
    },
    {
      "cell_type": "code",
      "source": [
        "from langchain.schema.runnable import RunnableLambda,RunnableSequence,RunnableParallel, RunnableBranch\n",
        "\n",
        "format_prompt = RunnableLambda(lambda x:prompt_template.format_prompt(**x))\n",
        "invoke_model = RunnableLambda(lambda x: llm.invoke(x.to_messages()))\n",
        "parse_output = RunnableLambda(lambda x: x.content)"
      ],
      "metadata": {
        "id": "GNJnt6JYbKoK"
      },
      "execution_count": 4,
      "outputs": []
    },
    {
      "cell_type": "code",
      "source": [
        "chain = RunnableSequence(first = format_prompt,middle = [invoke_model], last = parse_output)"
      ],
      "metadata": {
        "id": "8kD8QQ8peP34"
      },
      "execution_count": null,
      "outputs": []
    },
    {
      "cell_type": "code",
      "source": [
        "result = chain.invoke({\"quotes_count\":3})\n",
        "print(result)"
      ],
      "metadata": {
        "colab": {
          "base_uri": "https://localhost:8080/"
        },
        "id": "cvVbX0XBeyoT",
        "outputId": "fc1d1580-694c-405c-9460-c856b4dbb36a"
      },
      "execution_count": null,
      "outputs": [
        {
          "output_type": "stream",
          "name": "stdout",
          "text": [
            "I'd be delighted to motivate you with these 3 powerful quotes:\n",
            "\n",
            "1. **\"Believe you can and you're halfway there.\"** - Theodore Roosevelt\n",
            "\n",
            "Remember, having faith in yourself and your abilities is the first step to achieving greatness. Believe in your potential, and you'll be amazed at what you can accomplish!\n",
            "\n",
            "2. **\"It does not matter how slowly you go as long as you do not stop.\"** - Confucius\n",
            "\n",
            "Don't be discouraged by setbacks or slow progress. Every step forward, no matter how small, brings you closer to your goal. Keep moving, and you'll eventually reach your destination!\n",
            "\n",
            "3. **\"You miss 100% of the shots you don't take.\"** - Wayne Gretzky\n",
            "\n",
            "Don't let fear or doubt hold you back from taking risks and pursuing your dreams. Remember, every opportunity you seize is a chance to learn, grow, and succeed. Take the shot, and you might just score big!\n",
            "\n",
            "Feel motivated yet?\n"
          ]
        }
      ]
    },
    {
      "cell_type": "markdown",
      "source": [
        "#Sequential Chain"
      ],
      "metadata": {
        "id": "oEK9_A0Gh3kI"
      }
    },
    {
      "cell_type": "code",
      "source": [
        "prompt_template = ChatPromptTemplate.from_messages([\n",
        "    (\"system\",\"You are a good story teller about different places of the world in language {language}.\"),\n",
        "    (\"human\",\"Tell me a story about {place_name}\")\n",
        "])"
      ],
      "metadata": {
        "id": "5qxbx29me7dx"
      },
      "execution_count": null,
      "outputs": []
    },
    {
      "cell_type": "code",
      "source": [
        "#for_translation = RunnableLambda(lambda x: {\"content\":x[\"content\"]})\n",
        "for_translation = RunnableLambda(lambda output: {\"content\": output})\n",
        "prompt_template_1 = ChatPromptTemplate.from_messages([\n",
        "    (\"system\",\"You are a good language converter. you can convert any language into English language.\"),\n",
        "    (\"human\",\"Convert the text {content}\")\n",
        "])"
      ],
      "metadata": {
        "id": "zkzMz5IkiotA"
      },
      "execution_count": null,
      "outputs": []
    },
    {
      "cell_type": "code",
      "source": [
        "chain = prompt_template | llm | StrOutputParser() | for_translation | prompt_template_1 | llm | StrOutputParser()\n",
        "#chain1 = prompt_template_1 | llm | StrOutputParser()"
      ],
      "metadata": {
        "id": "kvIKU806i2zm"
      },
      "execution_count": null,
      "outputs": []
    },
    {
      "cell_type": "code",
      "source": [
        "result = chain.invoke({\"language\":\"French\",\"place_name\":\"Delhi\"})\n",
        "print(result)\n",
        "#result1 = chain1.invoke(result)\n",
        "#print(result1)"
      ],
      "metadata": {
        "colab": {
          "base_uri": "https://localhost:8080/"
        },
        "id": "pvzXPMBxjSwI",
        "outputId": "f6701970-727c-4a7b-c64d-2525425b5ce4"
      },
      "execution_count": null,
      "outputs": [
        {
          "output_type": "stream",
          "name": "stdout",
          "text": [
            "Here is the translation of the text from French to English:\n",
            "\n",
            "Delhi, the city with a thousand faces! Let me take you on a journey through the lively streets and historic monuments of this fascinating city.\n",
            "\n",
            "Once upon a time, in the heart of India, there was a city that had seen the birth and disappearance of empires, dynasties, and civilizations. Delhi, the capital of India, is a city that breathes history, culture, and diversity. From the Mughal period to the British colonial era, each era has left its mark on the city.\n",
            "\n",
            "Imagine yourself walking through the narrow streets of old Delhi, surrounded by mosques, temples, and colorful bazaars. The smells of spices and food surround you, while the sounds of horns, vendors' cries, and prayer chants fill the air. You feel like a traveler in a tale from the Arabian Nights, with its treasure markets and hidden secrets.\n",
            "\n",
            "We will visit the Red Fort, that magnificent Mughal palace that was the seat of imperial power for centuries. The red sandstone walls, lush gardens, and singing fountains transport you to an era of grandeur and splendor. You can almost hear the echoes of royal processions, classical dances, and recited poems in the reception halls.\n",
            "\n",
            "Next, we will go to the Jama Masjid mosque, one of the largest mosques in the world, which can accommodate up to 25,000 faithful. The slender minarets, white domes, and pointed arches leave you speechless, while the calls to prayer resonate in the surrounding streets.\n",
            "\n",
            "In the evening, we will stroll along the Yamuna River, which runs through the city like a silver ribbon. The lights of the temples, mosques, and houses reflect on the water, creating a spectacle of a thousand lights. You can sit on the ghats, the steps that lead down to the river, and watch the boats glide smoothly on the water, while the stars begin to appear in the night sky.\n",
            "\n",
            "Delhi is a city that takes you in its arms, that makes you discover its secrets, traditions, and contrasts. It's a city that makes you dream, that makes you travel through time and space. So come, let yourself be carried away by the current of Delhi life, and discover the wonders of this city with a thousand faces!\n"
          ]
        }
      ]
    },
    {
      "cell_type": "markdown",
      "source": [
        "#Parallel Chain"
      ],
      "metadata": {
        "id": "uwCTqRt2vRQL"
      }
    },
    {
      "cell_type": "code",
      "source": [
        "# Define prompt template for movie summary\n",
        "summary_template = ChatPromptTemplate.from_messages(\n",
        "    [\n",
        "        (\"system\", \"You are a movie critic.\"),\n",
        "        (\"human\", \"Provide a brief summary of the movie {movie_name}.\"),\n",
        "    ]\n",
        ")\n",
        "# Define plot analysis step\n",
        "def analyze_plot(plot):\n",
        "    plot_template = ChatPromptTemplate.from_messages(\n",
        "        [\n",
        "            (\"system\", \"You are a movie critic.\"),\n",
        "            (\"human\", \"Analyze the plot: {plot}. What are its strengths and weaknesses?\"),\n",
        "        ]\n",
        "    )\n",
        "    return plot_template.format_prompt(plot=plot)\n",
        "\n",
        "# Define character analysis step\n",
        "def analyze_characters(characters):\n",
        "    character_template = ChatPromptTemplate.from_messages(\n",
        "        [\n",
        "            (\"system\", \"You are a movie critic.\"),\n",
        "            (\"human\", \"Analyze the characters: {characters}. What are their strengths and weaknesses?\"),\n",
        "        ]\n",
        "    )\n",
        "    return character_template.format_prompt(characters=characters)\n",
        "\n",
        "# Combine analyses into a final verdict\n",
        "def combine_verdicts(plot_analysis, character_analysis):\n",
        "    return f\"Plot Analysis:\\n{plot_analysis}\\n\\nCharacter Analysis:\\n{character_analysis}\"\n",
        "\n",
        "# Simplify branches with LCEL\n",
        "plot_branch_chain = (\n",
        "    RunnableLambda(lambda x: analyze_plot(x)) | llm | StrOutputParser()\n",
        ")\n",
        "\n",
        "character_branch_chain = (\n",
        "    RunnableLambda(lambda x: analyze_characters(x)) | llm | StrOutputParser()\n",
        ")\n",
        "\n",
        "# Create the combined chain using LangChain Expression Language (LCEL)\n",
        "chain = (\n",
        "    summary_template\n",
        "    | llm\n",
        "    | StrOutputParser()\n",
        "    | RunnableParallel(branches={\"plot\": plot_branch_chain, \"characters\": character_branch_chain})\n",
        "    | RunnableLambda(lambda x: combine_verdicts(x[\"branches\"][\"plot\"], x[\"branches\"][\"characters\"]))\n",
        ")\n",
        "\n",
        "# Run the chain\n",
        "result = chain.invoke({\"movie_name\": \"Inception\"})\n",
        "\n",
        "print(result)"
      ],
      "metadata": {
        "colab": {
          "base_uri": "https://localhost:8080/"
        },
        "collapsed": true,
        "id": "SvS6y5frji4P",
        "outputId": "a9818e17-0d7b-4ce8-f640-be4b6905c38f"
      },
      "execution_count": null,
      "outputs": [
        {
          "output_type": "stream",
          "name": "stdout",
          "text": [
            "Plot Analysis:\n",
            "**Strengths:**\n",
            "\n",
            "1. **Original and Complex Plot**: The movie's narrative is a masterclass in storytelling, with a unique concept that explores the idea of shared dreaming and the blurring of reality and fantasy. The multiple levels of dreams within dreams create a sense of depth and complexity that keeps the audience engaged.\n",
            "2. **Well-Developed Characters**: The characters in the movie are well-fleshed out, with distinct personalities and motivations. Cobb's backstory and emotional arc are particularly well-developed, making him a relatable and sympathetic protagonist.\n",
            "3. **Stunning Visuals and Action Sequences**: The movie's visuals are breathtaking, with impressive action sequences that showcase the team's skills and creativity. The hotel corridor fight scene and the zero-gravity hotel sequence are standouts.\n",
            "4. **Thought-Provoking Themes**: The movie explores themes of reality, identity, and the power of the human mind, leaving the audience to ponder the implications of the plot long after the credits roll.\n",
            "5. **Strong Ensemble Cast**: The cast delivers strong performances, with Leonardo DiCaprio, Joseph Gordon-Levitt, and Tom Hardy standing out in particular.\n",
            "\n",
            "**Weaknesses:**\n",
            "\n",
            "1. **Overly Complex Plot**: While the movie's complexity is a strength, it can also be overwhelming for some viewers. The multiple levels of dreams within dreams can be difficult to follow, and some viewers may find themselves lost or confused.\n",
            "2. **Pacing Issues**: The movie's pacing can be uneven, with some scenes feeling rushed and others feeling slow. The exposition-heavy scenes can be dry and may test the audience's patience.\n",
            "3. **Underdeveloped Supporting Characters**: While the main characters are well-developed, some of the supporting characters feel underutilized or one-dimensional. Ariadne, in particular, feels like she could have been fleshed out more.\n",
            "4. **Emotional Resonance**: While the movie is intellectually stimulating, it can feel emotionally distant at times. The characters' emotional arcs are not always fully realized, which can make it difficult for the audience to become fully invested in their stories.\n",
            "5. **Ambiguous Ending**: The movie's ending is intentionally ambiguous, which can be frustrating for some viewers. While the ambiguity is meant to spark discussion and debate, it can also feel unsatisfying or unclear.\n",
            "\n",
            "**Overall**: \"Inception\" is a thought-provoking and visually stunning movie that challenges the audience to question the nature of reality. While it has some weaknesses, including an overly complex plot and pacing issues, its strengths far outweigh its weaknesses. The movie's original concept, well-developed characters, and stunning visuals make it a must-see for fans of science fiction and action movies.\n",
            "\n",
            "Character Analysis:\n",
            "The characters in \"Inception\" are complex and multi-dimensional, with each one bringing their own unique strengths and weaknesses to the table. Here's a breakdown of the main characters:\n",
            "\n",
            "**Cobb (Leonardo DiCaprio)**\n",
            "\n",
            "Strengths: Cobb is a skilled and experienced thief who has mastered the art of navigating dreams. He's charismatic, confident, and has a strong sense of determination. He's also deeply emotional and driven by a desire to reunite with his children.\n",
            "\n",
            "Weaknesses: Cobb's greatest weakness is his own subconscious, which is haunted by the memory of his wife, Mal (Marion Cotillard). His guilt and grief over her death threaten to sabotage the mission and blur the lines between reality and fantasy. He's also prone to emotional outbursts and can be reckless at times.\n",
            "\n",
            "**Arthur (Joseph Gordon-Levitt)**\n",
            "\n",
            "Strengths: Arthur is a skilled point man who is responsible for researching and gathering information about the targets. He's intelligent, resourceful, and has a dry sense of humor. He's also fiercely loyal to Cobb and the team.\n",
            "\n",
            "Weaknesses: Arthur can be a bit of a skeptic and is initially hesitant to trust Cobb's plan. He's also not as experienced in navigating dreams as Cobb, which can put him at a disadvantage.\n",
            "\n",
            "**Ariadne (Ellen Page)**\n",
            "\n",
            "Strengths: Ariadne is a talented architect who is responsible for designing the dreamscapes. She's creative, intelligent, and has a unique perspective on the world. She's also brave and willing to take risks.\n",
            "\n",
            "Weaknesses: Ariadne is a newcomer to the world of dream-sharing and can be overwhelmed by the complexity of the mission. She's also struggling to understand Cobb's motivations and can be frustrated by his secrecy.\n",
            "\n",
            "**Eames (Tom Hardy)**\n",
            "\n",
            "Strengths: Eames is a charming and skilled forger who is able to impersonate people in the dream world. He's confident, charismatic, and has a quick wit. He's also a skilled fighter and is able to hold his own in physical confrontations.\n",
            "\n",
            "Weaknesses: Eames can be a bit of a loose cannon and is prone to taking risks. He's also not as emotionally invested in the mission as the other team members, which can make him seem a bit detached at times.\n",
            "\n",
            "**Saito (Ken Watanabe)**\n",
            "\n",
            "Strengths: Saito is a wealthy and powerful businessman who is willing to take risks to achieve his goals. He's intelligent, strategic, and has a deep understanding of the world of dream-sharing. He's also a skilled fighter and is able to hold his own in physical confrontations.\n",
            "\n",
            "Weaknesses: Saito's motivations are not entirely clear, and his true intentions are shrouded in mystery. He's also willing to do whatever it takes to achieve his goals, which can make him seem ruthless and cunning.\n",
            "\n",
            "**Robert Fischer (Cillian Murphy)**\n",
            "\n",
            "Strengths: Fischer is a complex and nuanced character who is struggling to come to terms with his father's legacy. He's intelligent, sensitive, and has a deep sense of emotional vulnerability. He's also fiercely independent and is willing to challenge the status quo.\n",
            "\n",
            "Weaknesses: Fischer is emotionally fragile and is struggling to cope with the pressure of his father's expectations. He's also naive and trusting, which can make him vulnerable to manipulation.\n",
            "\n",
            "Overall, the characters in \"Inception\" are complex and multi-dimensional, with each one bringing their own unique strengths and weaknesses to the table. The film's success is due in large part to the talented cast, who bring depth and nuance to their respective characters.\n"
          ]
        }
      ]
    },
    {
      "cell_type": "code",
      "source": [
        "# Example of a Parallel Chain\n",
        "\n",
        "blog_template = ChatPromptTemplate.from_messages(\n",
        "    [\n",
        "        (\"system\",\"You are blog post writer.\"),\n",
        "        (\"human\",\"Give me a brief summary about the topic {topic_name}\")\n",
        "    ]\n",
        ")\n",
        "\n",
        "def twitter_blog(t_blog):\n",
        "    plot_template = ChatPromptTemplate.from_messages(\n",
        "        [\n",
        "            (\"system\", \"You are blog post writer.\"),\n",
        "            (\"human\", \"Analyze the blog: {t_blog}. Write a twitter post on this topic.\"),\n",
        "        ]\n",
        "    )\n",
        "    return plot_template.format_prompt(t_blog = t_blog)\n",
        "\n",
        "def facebook_blog(f_blog):\n",
        "    plot_template = ChatPromptTemplate.from_messages(\n",
        "        [\n",
        "            (\"system\", \"You are blog post writer.\"),\n",
        "            (\"human\", \"Analyze the blog: {f_blog}. Write a facebook post on this topic.\"),\n",
        "        ]\n",
        "    )\n",
        "    return plot_template.format_prompt(f_blog = f_blog)\n",
        "\n",
        "def linkedin_blog(l_blog):\n",
        "    plot_template = ChatPromptTemplate.from_messages(\n",
        "        [\n",
        "            (\"system\", \"You are blog post writer.\"),\n",
        "            (\"human\", \"Analyze the blog: {l_blog}. Write a LinkedIn post on this topic.\"),\n",
        "        ]\n",
        "    )\n",
        "    return plot_template.format_prompt(l_blog = l_blog)\n",
        "\n",
        "def combine_all(t_blog, f_blog, l_blog):\n",
        "  return f\"Twitter Blog:\\n{t_blog}\\n\\nFacebook blog:\\n{f_blog}\\n\\nLinkedIn blog:\\n{l_blog}\"\n",
        "\n",
        "twitter_blog_chain = (RunnableLambda(lambda x: twitter_blog(x)) | llm | StrOutputParser())\n",
        "facebook_blog_chain = (RunnableLambda(lambda x: facebook_blog(x)) | llm | StrOutputParser())\n",
        "linkedin_blog_chain = (RunnableLambda(lambda x: linkedin_blog(x)) | llm | StrOutputParser())\n",
        "\n",
        "chain = (\n",
        "    blog_template\n",
        "    | llm\n",
        "    | StrOutputParser()\n",
        "    | RunnableParallel(branches = {\"t_blog\":twitter_blog_chain,\"f_blog\":facebook_blog_chain,\"l_blog\":linkedin_blog_chain})\n",
        "    | RunnableLambda(lambda x: combine_all(x[\"branches\"][\"t_blog\"],x[\"branches\"][\"f_blog\"],x[\"branches\"][\"l_blog\"]))\n",
        ")\n",
        "\n",
        "result = chain.invoke({\"topic_name\":\"India\"})\n",
        "print(result)\n"
      ],
      "metadata": {
        "colab": {
          "base_uri": "https://localhost:8080/"
        },
        "id": "-vJJlcvhzbop",
        "outputId": "a808898c-b926-4e1b-f4d5-29c8c28e21a5"
      },
      "execution_count": null,
      "outputs": [
        {
          "output_type": "stream",
          "name": "stdout",
          "text": [
            "Twitter Blog:\n",
            "\"Discover the vibrant country of India! With a rich history, diverse culture, and breathtaking natural beauty, India has something for everyone. From the Taj Mahal to the beaches of Goa, explore the many wonders of this incredible nation #India #Travel #Culture\"\n",
            "\n",
            "Facebook blog:\n",
            "Here's a Facebook post based on the blog:\n",
            "\n",
            "**Discover the Wonders of India!**\n",
            "\n",
            "Did you know that India is the world's seventh-largest country by land area and the second-most populous country, with over 1.3 billion people? \n",
            "\n",
            "From the majestic Himalayan Mountains to the beautiful beaches of Goa, India is a country of incredible diversity and natural beauty. With over 22 official languages and a significant presence of various religions, India is a melting pot of cultures and traditions.\n",
            "\n",
            "Whether you're interested in history, culture, food, or adventure, India has something for everyone! Explore the iconic landmarks like the Taj Mahal, the Golden Temple, and the Red Fort, or experience the vibrant culture through its music, dance, art, and cuisine.\n",
            "\n",
            "India is also a rapidly growing economy, with a mix of traditional and modern industries, and is home to many UNESCO World Heritage Sites, including the ancient city of Varanasi and the Ellora Caves.\n",
            "\n",
            "So, are you ready to discover the wonders of India? Share with us your favorite Indian destination or experience in the comments below!\n",
            "\n",
            "**#India #Travel #Culture #History #Food #Adventure #DiscoverIndia**\n",
            "\n",
            "LinkedIn blog:\n",
            "Here's a LinkedIn post based on the blog:\n",
            "\n",
            "**Discover the Wonders of India**\n",
            "\n",
            "As the world's seventh-largest country by land area and the second-most populous country, India is a treasure trove of rich history, diverse culture, and breathtaking natural beauty. With a history dating back over 5,000 years, India is home to a wide range of cultures, languages, and religions, making it a fascinating and complex country to explore.\n",
            "\n",
            "From the snow-capped Himalayan Mountains to the tropical rainforests and deserts, India's geography is as diverse as its people. The country's vibrant culture is reflected in its music, dance, art, and cuisine, with popular dishes like curry, tandoori chicken, and naan bread that are famous around the world.\n",
            "\n",
            "As a rapidly growing economy, India is a hub for traditional and modern industries, including textiles, pharmaceuticals, and technology. The country is also a popular tourist destination, with many iconic landmarks and attractions like the Taj Mahal, the Golden Temple, and the beaches of Goa.\n",
            "\n",
            "Whether you're interested in history, culture, or business, India has something to offer. With its rich heritage and modern advancements, India is a country that is sure to leave you in awe.\n",
            "\n",
            "**Key takeaways:**\n",
            "\n",
            "* India is a diverse country with a rich history and culture\n",
            "* The country has a rapidly growing economy with a mix of traditional and modern industries\n",
            "* India is a popular tourist destination with many iconic landmarks and attractions\n",
            "* The country is home to a wide range of cultures, languages, and religions\n",
            "\n",
            "**Let's connect:**\n",
            "\n",
            "If you're interested in learning more about India or have experiences to share, let's connect! I'd love to hear about your thoughts and experiences in the comments below.\n",
            "\n",
            "#India #Diversity #Culture #Economy #Tourism #Travel #Business #History #Heritage\n"
          ]
        }
      ]
    },
    {
      "cell_type": "markdown",
      "source": [
        "#Conditional Chain"
      ],
      "metadata": {
        "id": "qurRwBQIQglb"
      }
    },
    {
      "cell_type": "code",
      "source": [
        "# Define prompt templates for different feedback types\n",
        "positive_feedback_template = ChatPromptTemplate.from_messages(\n",
        "    [\n",
        "        (\"system\", \"You are a helpful assistant.\"),\n",
        "        (\"human\",\n",
        "         \"Generate a thank you note for this positive feedback: {feedback}.\"),\n",
        "    ]\n",
        ")\n",
        "\n",
        "negative_feedback_template = ChatPromptTemplate.from_messages(\n",
        "    [\n",
        "        (\"system\", \"You are a helpful assistant.\"),\n",
        "        (\"human\",\n",
        "         \"Generate a response addressing this negative feedback: {feedback}.\"),\n",
        "    ]\n",
        ")\n",
        "\n",
        "neutral_feedback_template = ChatPromptTemplate.from_messages(\n",
        "    [\n",
        "        (\"system\", \"You are a helpful assistant.\"),\n",
        "        (\n",
        "            \"human\",\n",
        "            \"Generate a request for more details for this neutral feedback: {feedback}.\",\n",
        "        ),\n",
        "    ]\n",
        ")\n",
        "\n",
        "escalate_feedback_template = ChatPromptTemplate.from_messages(\n",
        "    [\n",
        "        (\"system\", \"You are a helpful assistant.\"),\n",
        "        (\n",
        "            \"human\",\n",
        "            \"Generate a message to escalate this feedback to a human agent: {feedback}.\",\n",
        "        ),\n",
        "    ]\n",
        ")\n",
        "\n",
        "# Define the feedback classification template\n",
        "classification_template = ChatPromptTemplate.from_messages(\n",
        "    [\n",
        "        (\"system\", \"You are a helpful assistant.\"),\n",
        "        (\"human\",\n",
        "         \"Classify the sentiment of this feedback as positive, negative, neutral, or escalate: {feedback}.\"),\n",
        "    ]\n",
        ")\n",
        "\n",
        "# Define the runnable branches for handling feedback\n",
        "branches = RunnableBranch(\n",
        "    (\n",
        "        lambda x: \"positive\" in x,\n",
        "        positive_feedback_template | llm | StrOutputParser()  # Positive feedback chain\n",
        "    ),\n",
        "    (\n",
        "        lambda x: \"negative\" in x,\n",
        "        negative_feedback_template | llm | StrOutputParser()  # Negative feedback chain\n",
        "    ),\n",
        "    (\n",
        "        lambda x: \"neutral\" in x,\n",
        "        neutral_feedback_template | llm | StrOutputParser()  # Neutral feedback chain\n",
        "    ),\n",
        "    escalate_feedback_template | llm | StrOutputParser()\n",
        ")\n",
        "\n",
        "# Create the classification chain\n",
        "classification_chain = classification_template | llm | StrOutputParser()\n",
        "\n",
        "# Combine classification and response generation into one chain\n",
        "chain = classification_chain | branches\n",
        "\n",
        "# Run the chain with an example review\n",
        "# Good review - \"The product is excellent. I really enjoyed using it and found it very helpful.\"\n",
        "# Bad review - \"The product is terrible. It broke after just one use and the quality is very poor.\"\n",
        "# Neutral review - \"The product is okay. It works as expected but nothing exceptional.\"\n",
        "# Default - \"I'm not sure about the product yet. Can you tell me more about its features and benefits?\"\n",
        "\n",
        "review = \"The product is terrible. It broke after just one use and the quality is very poor.\"\n",
        "result = chain.invoke({\"feedback\": review})\n",
        "\n",
        "# Output the result\n",
        "print(result)"
      ],
      "metadata": {
        "id": "Syu9jBVp6bH1",
        "colab": {
          "base_uri": "https://localhost:8080/"
        },
        "outputId": "409f65d2-d9ce-4e2e-e1ef-eeba2cdd465c"
      },
      "execution_count": 5,
      "outputs": [
        {
          "output_type": "stream",
          "name": "stdout",
          "text": [
            "Here's a potential response to address the negative feedback:\n",
            "\n",
            "\"Dear valued customer,\n",
            "\n",
            "We apologize for the extremely disappointing experience you've had with our product. We're truly sorry to hear that it broke after only one use and that the quality did not meet your expectations. We understand that this is not the level of quality and performance you deserve, and for that, we are truly sorry.\n",
            "\n",
            "At our company, we take pride in providing high-quality products that meet the needs of our customers. Clearly, we fell short in your case, and we want to make it right. We would like to offer you a replacement or a full refund, whichever you prefer. Please let us know which option you prefer, and we will expedite the process.\n",
            "\n",
            "Additionally, we would like to learn more about what went wrong with your product. Your feedback is invaluable in helping us identify areas for improvement and ensuring that our products meet the high standards we strive for. If you're willing, could you please provide us with more details about your experience, such as the specific issue you encountered and any other relevant information?\n",
            "\n",
            "Once again, we apologize for the poor quality of our product and the inconvenience it has caused you. We appreciate your feedback and look forward to the opportunity to serve you better in the future.\n",
            "\n",
            "Thank you for your time, and please don't hesitate to contact us if you have any further questions or concerns.\n",
            "\n",
            "Best regards,\n",
            "[Your Name]\"\n",
            "\n",
            "This response acknowledges the customer's negative experience, apologizes for the poor quality of the product, and offers a solution to make it right. It also shows appreciation for the customer's feedback and invites them to provide more information to help improve the product. By responding in a prompt, empathetic, and solution-focused manner, we can turn a negative experience into a positive one and demonstrate our commitment to customer satisfaction.\n"
          ]
        }
      ]
    },
    {
      "cell_type": "code",
      "source": [],
      "metadata": {
        "id": "l5JbKRdUL85f"
      },
      "execution_count": null,
      "outputs": []
    }
  ],
  "metadata": {
    "accelerator": "GPU",
    "colab": {
      "gpuType": "T4",
      "provenance": []
    },
    "kernelspec": {
      "display_name": "Python 3",
      "name": "python3"
    },
    "language_info": {
      "name": "python"
    }
  },
  "nbformat": 4,
  "nbformat_minor": 0
}